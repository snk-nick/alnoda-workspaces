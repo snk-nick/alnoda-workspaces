{
 "cells": [
  {
   "cell_type": "raw",
   "id": "c379b4f2",
   "metadata": {},
   "source": [
    "---\n",
    "title: Hello 🌍🪐\n",
    "description: Hello app\n",
    "params:\n",
    "    planet:\n",
    "        input: select\n",
    "        label: Please select a planet\n",
    "        value: Earth\n",
    "        choices: [Mercury, Venus, Earth, Mars, Jupiter, Saturn, Uranus, Neptune]\n",
    "---"
   ]
  },
  {
   "cell_type": "code",
   "execution_count": 3,
   "id": "ca723800",
   "metadata": {},
   "outputs": [],
   "source": [
    "planet = \"Earth\""
   ]
  },
  {
   "cell_type": "code",
   "execution_count": 4,
   "id": "5ba861b8",
   "metadata": {},
   "outputs": [
    {
     "name": "stdout",
     "output_type": "stream",
     "text": [
      "Hello Earth!\n"
     ]
    }
   ],
   "source": [
    "print(f\"Hello {planet}!\")"
   ]
  },
  {
   "cell_type": "code",
   "execution_count": null,
   "id": "a17b3299",
   "metadata": {},
   "outputs": [],
   "source": []
  }
 ],
 "metadata": {
  "kernelspec": {
   "display_name": "Python 3 (ipykernel)",
   "language": "python",
   "name": "python3"
  },
  "language_info": {
   "codemirror_mode": {
    "name": "ipython",
    "version": 3
   },
   "file_extension": ".py",
   "mimetype": "text/x-python",
   "name": "python",
   "nbconvert_exporter": "python",
   "pygments_lexer": "ipython3",
   "version": "3.8.13"
  }
 },
 "nbformat": 4,
 "nbformat_minor": 5
}
