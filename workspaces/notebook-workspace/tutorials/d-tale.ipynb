{
 "cells": [
  {
   "cell_type": "markdown",
   "id": "4d7dd6b9",
   "metadata": {},
   "source": [
    "# D-Tale demo\n",
    "Jupyterlab pandas dataframe eploration and discovery. You can view entire dataframe in a separate window, explore and conduct visual analysis.  \n",
    "\n",
    "__D-Tale works in Jupyter notebooks, Jupyter Lab and in VS-COde notebooks."
   ]
  },
  {
   "cell_type": "code",
   "execution_count": null,
   "id": "0c5054b0",
   "metadata": {},
   "outputs": [],
   "source": [
    "import dtale              # enables D-Tale\n",
    "import pandas as pd"
   ]
  },
  {
   "cell_type": "code",
   "execution_count": null,
   "id": "18e8d3df",
   "metadata": {},
   "outputs": [],
   "source": [
    "df = pd.read_csv('housing.csv') "
   ]
  },
  {
   "cell_type": "code",
   "execution_count": null,
   "id": "17587d1b",
   "metadata": {},
   "outputs": [],
   "source": [
    "# Display pandas dataframe (standard visualization)\n",
    "df"
   ]
  },
  {
   "cell_type": "code",
   "execution_count": null,
   "id": "aba9eacb",
   "metadata": {},
   "outputs": [],
   "source": [
    "# Show pandas dataframe in D-Tale\n",
    "# NOTE: this will stop the default D-Tale service, and start the new one\n",
    "dtale.show(df, host=\"0.0.0.0\", port=8038, force=True)  # host and port are important!\n",
    "# Open Quickstart page, go to \"My Apps\" and open \"My App on Port 8038\""
   ]
  },
  {
   "cell_type": "code",
   "execution_count": null,
   "id": "66a1c2ca-fe91-4494-9ea0-9076e3917a1b",
   "metadata": {},
   "outputs": [],
   "source": []
  }
 ],
 "metadata": {
  "kernelspec": {
   "display_name": "Python 3 (ipykernel)",
   "language": "python",
   "name": "python3"
  },
  "language_info": {
   "codemirror_mode": {
    "name": "ipython",
    "version": 3
   },
   "file_extension": ".py",
   "mimetype": "text/x-python",
   "name": "python",
   "nbconvert_exporter": "python",
   "pygments_lexer": "ipython3",
   "version": "3.9.6-final"
  }
 },
 "nbformat": 4,
 "nbformat_minor": 5
}